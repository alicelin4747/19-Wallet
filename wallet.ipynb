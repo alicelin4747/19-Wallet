{
 "cells": [
  {
   "cell_type": "code",
   "execution_count": 1,
   "id": "7f42aed6-a6c1-4062-932f-04ebfaec08c9",
   "metadata": {},
   "outputs": [],
   "source": [
    "# Import dependencies\n",
    "import os\n",
    "import subprocess\n",
    "import json\n",
    "from dotenv import load_dotenv\n",
    "import pprint\n",
    "from bit import PrivateKeyTestnet\n",
    "\n",
    "pp = pprint.PrettyPrinter(indent=2)\n",
    "\n",
    "from eth_account import Account"
   ]
  },
  {
   "cell_type": "code",
   "execution_count": 3,
   "id": "8c215633-4872-4ae7-8641-df91be544ca2",
   "metadata": {},
   "outputs": [
    {
     "data": {
      "text/plain": [
       "'tomato idea borrow mixture admit pyramid flight dumb wall torch egg disease'"
      ]
     },
     "execution_count": 3,
     "metadata": {},
     "output_type": "execute_result"
    }
   ],
   "source": [
    "# Load and set environment variables\n",
    "load_dotenv(\"/Users/FinTech/PycharmProjects/Bootcamp/HW/19-Wallet/mnemonic_keys.env\")\n",
    "mnemonic = os.getenv(\"mnemonic\")\n",
    "mnemonic"
   ]
  },
  {
   "cell_type": "code",
   "execution_count": 4,
   "id": "16cd8a31-d302-444c-b7f8-c5bd77571ab3",
   "metadata": {},
   "outputs": [],
   "source": [
    "# Import constants.py and necessary functions from bit and web3\n",
    "from constants import *\n",
    "from web3 import Web3\n",
    "from web3.middleware import geth_poa_middleware\n",
    "\n",
    "w3 = Web3(Web3.HTTPProvider(\"http://127.0.0.1:8545\"))\n",
    "w3.middleware_onion.inject(geth_poa_middleware, layer=0)"
   ]
  },
  {
   "cell_type": "code",
   "execution_count": 6,
   "id": "4bac7027-d939-4972-94bf-8b1f82432947",
   "metadata": {},
   "outputs": [],
   "source": [
    "# Create a function called `derive_wallets`\n",
    "def derive_wallets(coinType):\n",
    "    command = 'php hd-wallet-derive/hd-wallet-derive.php ' \\\n",
    "              '-g ' \\\n",
    "              '--mnemonic=mnemonic ' \\\n",
    "              '--cols=address,index,path,privkey,pubkey,pubkeyhash,xprv,xpub ' \\\n",
    "              '--format=json ' \\\n",
    "              '--coin=' + coinType + ' ' \\\n",
    "                                     '--numderive=3'\n",
    "    print('Command to execute: ' + command)\n",
    "    p = subprocess.Popen(command, stdout=subprocess.PIPE, shell=False)\n",
    "    output, err = p.communicate()\n",
    "    p_status = p.wait()\n",
    "    return json.loads(output)"
   ]
  },
  {
   "cell_type": "code",
   "execution_count": 7,
   "id": "7c77a68f-c6ec-44b7-8f0a-44ff40621333",
   "metadata": {},
   "outputs": [
    {
     "name": "stdout",
     "output_type": "stream",
     "text": [
      "Command to execute: php hd-wallet-derive/hd-wallet-derive.php -g --mnemonic=mnemonic --cols=address,index,path,privkey,pubkey,pubkeyhash,xprv,xpub --format=json --coin=eth --numderive=3\n",
      "Command to execute: php hd-wallet-derive/hd-wallet-derive.php -g --mnemonic=mnemonic --cols=address,index,path,privkey,pubkey,pubkeyhash,xprv,xpub --format=json --coin=btc-test --numderive=3\n",
      "{ 'btc-test': [ { 'address': 'mtgb9hthmFpY1zidrYmZ24eTF87aBA147h',\n",
      "                  'index': 0,\n",
      "                  'path': \"m/44'/1'/0'/0/0\",\n",
      "                  'privkey': 'cVAgDoahzo5Ucdv8ioxxubvmE6LfU3ZQgJ21UvY4eC1xi6WkvnXe',\n",
      "                  'pubkey': '0339b281b12687c70a024ef409229b55d404533b4e9a475dc9d3883c0172913fb6',\n",
      "                  'pubkeyhash': '906c250da82c2bd3edf9bcbbbb29f2188065f9d2',\n",
      "                  'xprv': 'tprv8kmimjp9GYq9EvcrxozEhxzk9jGwaC73BSiy3ATqwwikM4YgH7685zQLzX7xzXAmhXxf5LZbpbqtSGX3fcNFbfVJdxuEYPrA5tDRRQgwPRm',\n",
      "                  'xpub': 'tpubDHTkv9rPQvWp8PeerTeq7NeriknsjXHwkkKkKgW9NDX9BYoSuVuiGV2DAejLNv85zVm31akUTVk6Z8MyhECbWDzQ3Qir4GoRCXfBgKk8GxA'},\n",
      "                { 'address': 'mxwSU31v1NtbUi6Pc5bN9BgmmAGw13JdvX',\n",
      "                  'index': 1,\n",
      "                  'path': \"m/44'/1'/0'/0/1\",\n",
      "                  'privkey': 'cRG5vrAkkq3ZkTmT2mmqCgbxd8niBdXx3ocDMd1771oSzJDvqXiC',\n",
      "                  'pubkey': '02f4468eae06b195a4f83cc63d680d015d512af60288977e0283fd4299bfcde24b',\n",
      "                  'pubkeyhash': 'bf1ba366dd65a4824c22f497bbff1fae89007841',\n",
      "                  'xprv': 'tprv8kmimjp9GYq9FvSyaAKU2MY38GBpiMHEsjgMtnLaMhyZQPzAiEM6ZTC8z9vdTsJVRQDcoCvLeWEHiPWWLpiGMjoYcffLhXJXNbJawYjKTof',\n",
      "                  'xpub': 'tpubDHTkv9rPQvWp9PUmToz4RmC9hHhksgU9T3H9BJNsmymxEtEwLdAgjwp1AHtm7kbkbHvsC3zA3cjHi6DAFtGCvFMgY961mo7mg5ABBu21126'},\n",
      "                { 'address': 'n2QTqdWK96XyJ7o8LXqoCjNbmtrFNFbNb6',\n",
      "                  'index': 2,\n",
      "                  'path': \"m/44'/1'/0'/0/2\",\n",
      "                  'privkey': 'cUMUWn4yukMK41LpebaCmnbH26XCQn9EDoSK753FxSNxQC77i5TU',\n",
      "                  'pubkey': '03c486d31c700f8342f6dac13fffaab4d44c492637042659ae2922846c89077101',\n",
      "                  'pubkeyhash': 'e5206464e15c29f28f54678782a909be5954f6cc',\n",
      "                  'xprv': 'tprv8kmimjp9GYq9JExZDMjKjYhzHGQwQHVmMh2cRP5BLMAgCbw7fNgDssZJCujBDau2t2PEzddu8QApnrgnhzktN4LT8BXEM7HDSrxMHM6XasY',\n",
      "                  'xpub': 'tpubDHTkv9rPQvWpBhzM71Pv8xN6rHvsZcgfvzdPhu7Ukcy536BtHmVp4NBAP4aP5Laycoz7Shaprf1xgAyBrZdGuoDWUFcrPc3UuiqRTBcQnxt'}],\n",
      "  'eth': [ { 'address': '0x3De0A2fD4A90f9A160ebb2B8711192D1F0eB339D',\n",
      "             'index': 0,\n",
      "             'path': \"m/44'/60'/0'/0/0\",\n",
      "             'privkey': '0x82d63adc8be924a92ef77c6e3286c4e80eaebad63ba2b91c27801a62ba2f9410',\n",
      "             'pubkey': '02c93d99b9686cabed081f1eb262b81a435ae2816ba940e0fea550a36603d8077b',\n",
      "             'pubkeyhash': 'a90e4da9a141168d3e0ac3821015190a79df729c',\n",
      "             'xprv': 'xprvA3W3uzhjas8mpZrqS7oW9ar2SWxLGhwcPFT7S2j7VM8e9PbaYcfSJo4aDdsjd7yi9iPcKkvxg7TzmeNJniz84Y4rYgTaarwiMk66gZNwj3P',\n",
      "             'xpub': 'xpub6GVQKWEdREh533wJY9LWWinkzYnpgAfTkUNiER8j3gfd2Bvj69ygrbP44uSWSEu9BwzQ2mboHQp17puXxT3y9xnXCt256vtjkzV2caX1xeT'},\n",
      "           { 'address': '0xc5557310a53b90f18E926431B1896c29Df0dcc1a',\n",
      "             'index': 1,\n",
      "             'path': \"m/44'/60'/0'/0/1\",\n",
      "             'privkey': '0xf0c147a367c5732f750e0dc072540f71ec3e3a87fafee9e7516982861e9e259e',\n",
      "             'pubkey': '0299b67384c634d60ac57d9efc57a93b3a2d87b9eb63e3025652de882c269f2480',\n",
      "             'pubkeyhash': '8703eefc2cdcf91b844d7ec8090d2e89d092de58',\n",
      "             'xprv': 'xprvA3W3uzhjas8msDSBJH94x7mqj53hfhCweGzWNRqsHamAi3MrZh4cDT4VywH5UH7UboqUbVazKeEn9gLy7TgeMbtWSuyYk852kBG75GZmB4r',\n",
      "             'xpub': 'xpub6GVQKWEdREh55hWeQJg5KFiaH6tC59vo1Vv7ApFUqvJ9aqh17ENrmFNyqBeWXxBLL8hxPeeUw4A8HfovbNetZcGkNj6p1VoJiDt4UJ3L9RU'},\n",
      "           { 'address': '0x926841419b49910D80fCEa75d587BE3aefFf560e',\n",
      "             'index': 2,\n",
      "             'path': \"m/44'/60'/0'/0/2\",\n",
      "             'privkey': '0x356c8dd425cf9714114bf73751c13d1ad34f4012e2ac37e564b0aaee238a0d2a',\n",
      "             'pubkey': '02fb003f8b9fd2e765b5c64b7f47832bc46ff818807e7903262c03a29d2b983f6a',\n",
      "             'pubkeyhash': '53c13c213c11034e676536944ec4f2cb5fb0b3c0',\n",
      "             'xprv': 'xprvA3W3uzhjas8mvbJ4eX1qKPXK7osvsQXSezDFvPW3dEpbJZ35xaJXxBdpPcrXDrqror7a2McmYr5HbL5Xiag834qfBkvhY5YvLKe3MPxFbch',\n",
      "             'xpub': 'xpub6GVQKWEdREh595NXkYYqgXU3fqiRGsFJ2D8rimufBaMaBMNEW7cnVyxJEuPJW5HNqmbaVUfxVVhvPxd4SmjitFxyEY2YJHeF2GXfz5Q8yRb'}]}\n",
      "Private key of the 2nd ethereum index is: 0xf0c147a367c5732f750e0dc072540f71ec3e3a87fafee9e7516982861e9e259e\n"
     ]
    }
   ],
   "source": [
    "# Create a dictionary object called coins to store the output from `derive_wallets`.\n",
    "coins = {ETH: derive_wallets(ETH), BTCTEST: derive_wallets(BTCTEST)}\n",
    "pp.pprint(coins)\n",
    "print(\"Private key of the 2nd ethereum index is: \" + coins[ETH][1]['privkey'])"
   ]
  },
  {
   "cell_type": "code",
   "execution_count": 22,
   "id": "57bf632a-04f0-4e82-803b-98a2e206a673",
   "metadata": {},
   "outputs": [
    {
     "name": "stdout",
     "output_type": "stream",
     "text": [
      "btc address: mtgb9hthmFpY1zidrYmZ24eTF87aBA147h\n",
      "eth address: 0x3De0A2fD4A90f9A160ebb2B8711192D1F0eB339D\n"
     ]
    }
   ],
   "source": [
    "# Create a function called `priv_key_to_account` that converts privkey strings to account objects.\n",
    "def priv_key_to_account(coin, private_key):\n",
    "    if coin == 'eth':\n",
    "        account_eth = Account.from_key(private_key)\n",
    "        return account_eth\n",
    "    if coin == 'btc-test':\n",
    "        account_btctest = PrivateKeyTestnet(private_key)\n",
    "        return account_btctest\n",
    "\n",
    "print('btc address:' + ' ' + priv_key_to_account('btc-test', \"cVAgDoahzo5Ucdv8ioxxubvmE6LfU3ZQgJ21UvY4eC1xi6WkvnXe\").address)\n",
    "print('eth address:' + ' ' + priv_key_to_account('eth', \"0x82d63adc8be924a92ef77c6e3286c4e80eaebad63ba2b91c27801a62ba2f9410\").address)\n",
    "\n",
    "account_btctest = priv_key_to_account('btc-test', \"cVAgDoahzo5Ucdv8ioxxubvmE6LfU3ZQgJ21UvY4eC1xi6WkvnXe\")\n",
    "account_eth = priv_key_to_account('eth', \"0x82d63adc8be924a92ef77c6e3286c4e80eaebad63ba2b91c27801a62ba2f9410\")"
   ]
  },
  {
   "cell_type": "code",
   "execution_count": 27,
   "id": "182e27aa-b442-4d77-a7dd-0ff4a182e9f4",
   "metadata": {},
   "outputs": [],
   "source": [
    "# Create a function called `create_tx` that creates an unsigned transaction appropriate metadata.\n",
    "def create_tx(coin, account, recipient, amount):\n",
    "    if coin == 'eth':\n",
    "        gasEstimate = w3.eth.estimateGas(\n",
    "            {\"from\": account.address, \"to\": recipient, \"value\": amount}\n",
    "        )\n",
    "        return {\n",
    "            \"from\": account.address,\n",
    "            \"to\": recipient,\n",
    "            \"value\": amount,\n",
    "            \"gasPrice\": w3.eth.gasPrice,\n",
    "            \"gas\": gasEstimate,\n",
    "            \"nonce\": w3.eth.getTransactionCount(account.address),\n",
    "        }\n",
    "    if coin == 'btc_test':\n",
    "        return PrivateKeyTestnet.prepare_transaction(account.address, [(recipient, amount, coin)])\n",
    "\n",
    "create_tx('btc-test', account_btctest, 'mxwSU31v1NtbUi6Pc5bN9BgmmAGw13JdvX', 0.0005)"
   ]
  },
  {
   "cell_type": "code",
   "execution_count": 28,
   "id": "f0fcef53-1c3b-4050-a13e-887743f8461b",
   "metadata": {},
   "outputs": [],
   "source": [
    "# Create a function called `send_tx` that calls `create_tx`, signs and sends the transaction.\n",
    "def send_tx(coin, account, recipient, amount):\n",
    "    if coin == 'eth':\n",
    "        tx = create_tx(coin, account, recipient, amount)\n",
    "        signed_tx = account.sign_transaction(tx)\n",
    "        result = w3.eth.sendRawTransaction(signed_tx.rawTransaction)\n",
    "        print(result.hex())\n",
    "        return result.hex()\n",
    "    if coin == 'btc_test':\n",
    "        tx = create_tx(coin, account, recipient, amount)\n",
    "        signed_tx = account.sign_transaction(tx)\n",
    "        return NetworkAPI.broadcast_tx_testnet(signed_tx)\n",
    "    \n",
    "send_tx('btc-test', account_btctest, 'mxwSU31v1NtbUi6Pc5bN9BgmmAGw13JdvX', 0.0005)"
   ]
  },
  {
   "cell_type": "code",
   "execution_count": null,
   "id": "fb4244dc-9976-4ff0-ae3c-75f37294e903",
   "metadata": {},
   "outputs": [],
   "source": []
  },
  {
   "cell_type": "code",
   "execution_count": null,
   "id": "f564151c-4596-4d4a-b12a-77475b5056ab",
   "metadata": {},
   "outputs": [],
   "source": []
  }
 ],
 "metadata": {
  "kernelspec": {
   "display_name": "Python 3",
   "language": "python",
   "name": "python3"
  },
  "language_info": {
   "codemirror_mode": {
    "name": "ipython",
    "version": 3
   },
   "file_extension": ".py",
   "mimetype": "text/x-python",
   "name": "python",
   "nbconvert_exporter": "python",
   "pygments_lexer": "ipython3",
   "version": "3.7.10"
  }
 },
 "nbformat": 4,
 "nbformat_minor": 5
}
